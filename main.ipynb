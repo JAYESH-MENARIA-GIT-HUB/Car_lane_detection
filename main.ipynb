{
 "cells": [
  {
   "cell_type": "code",
   "execution_count": 84,
   "id": "2d7c67f0",
   "metadata": {},
   "outputs": [],
   "source": [
    "import cv2\n",
    "import numpy as np\n",
    "\n",
    "video = cv2.VideoCapture(\"test_videos/solidWhiteRight.mp4\")\n",
    "\n",
    "while True:\n",
    "    ret, orig_frame = video.read()\n",
    "    if not ret:\n",
    "        break\n",
    "    # blur image\n",
    "    frame = cv2.GaussianBlur(orig_frame, (3, 3), 0)\n",
    "    \n",
    "    # create black image\n",
    "    orig_mask = np.zeros_like(frame)\n",
    "    height, width,channel = orig_mask.shape\n",
    "    polygon = np.array([[(50,height),(250,300),(600,300),(1200,height)]])\n",
    "    # fill with useful area\n",
    "    cv2.fillPoly(orig_mask,polygon,(255,255,255))\n",
    "    # add comman part of image\n",
    "    bit = cv2.bitwise_and(frame, orig_mask)\n",
    "    \n",
    "    # convert image to HSV\n",
    "    hsv = cv2.cvtColor(bit, cv2.COLOR_BGR2HSV)\n",
    "    low_yellow = np.array([18, 94, 140])\n",
    "    up_yellow = np.array([48, 255, 255])\n",
    "    # select yellow area\n",
    "    mask_yellow = cv2.inRange(hsv, low_yellow, up_yellow)\n",
    "    \n",
    "    #select white area\n",
    "    low_white = np.array([0, 0, 220])\n",
    "    up_white = np.array([255, 255, 255])\n",
    "    mask_white = cv2.inRange(hsv, low_white, up_white)\n",
    "    mask = cv2.bitwise_or(mask_yellow,mask_white)\n",
    "    \n",
    "    # select color\n",
    "    ret, thresh = cv2.threshold(mask, 130, 145, cv2.THRESH_BINARY) #  you can use edges = cv2.Canny(mask, 75, 150)\n",
    "\n",
    "    lines = cv2.HoughLinesP(thresh, 1, np.pi/180, 50, maxLineGap=50)\n",
    "    if lines is not None:\n",
    "        for line in lines:\n",
    "            x1, y1, x2, y2 = line[0]\n",
    "            cv2.line(frame, (x1, y1), (x2, y2), (0, 255, 0), 5)\n",
    "\n",
    "    cv2.imshow(\"frame\", frame)\n",
    "\n",
    "\n",
    "    if cv2.waitKey(1) == ord(\"q\"):\n",
    "        break\n",
    "video.release()\n",
    "cv2.destroyAllWindows()"
   ]
  }
 ],
 "metadata": {
  "kernelspec": {
   "display_name": "Python 3",
   "language": "python",
   "name": "python3"
  },
  "language_info": {
   "codemirror_mode": {
    "name": "ipython",
    "version": 3
   },
   "file_extension": ".py",
   "mimetype": "text/x-python",
   "name": "python",
   "nbconvert_exporter": "python",
   "pygments_lexer": "ipython3",
   "version": "3.9.4"
  }
 },
 "nbformat": 4,
 "nbformat_minor": 5
}
